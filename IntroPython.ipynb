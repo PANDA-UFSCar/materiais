{
  "nbformat": 4,
  "nbformat_minor": 0,
  "metadata": {
    "colab": {
      "name": "IntroPython.ipynb",
      "provenance": [],
      "collapsed_sections": []
    },
    "kernelspec": {
      "name": "python3",
      "display_name": "Python 3"
    },
    "language_info": {
      "name": "python"
    }
  },
  "cells": [
    {
      "cell_type": "markdown",
      "source": [
        "# Pensamento Computacional"
      ],
      "metadata": {
        "id": "aD32mKOTyfez"
      }
    },
    {
      "cell_type": "markdown",
      "source": [
        "## Vídeo\n",
        "* [Introdução ao pensamento computacional ](https://www.youtube.com/watch?v=HvSugmHoyGo )\n",
        "* [Ferramentas para o pensamento computacional](https://www.youtube.com/watch?v=O3ABat86ymk)"
      ],
      "metadata": {
        "id": "3yBEg7p3yi8o"
      }
    },
    {
      "cell_type": "markdown",
      "metadata": {
        "id": "ICw_whcDIoJ6"
      },
      "source": [
        "# Variáveis, operadores e expressões\n",
        "\n"
      ]
    },
    {
      "cell_type": "markdown",
      "metadata": {
        "id": "cm4PxiBzKEcs"
      },
      "source": [
        "## Vídeo\n",
        "### [Playlist: Curso Analista de Dados Python / Numpy / Pandas](https://www.youtube.com/playlist?list=PL3Fmwz_E1hXRWxIkP843DiDf0ZeqgftTy) \n",
        "*   Assista os vídeos #01, #02 e #03 \n",
        "\n"
      ]
    },
    {
      "cell_type": "markdown",
      "metadata": {
        "id": "QhiOdzpAIy96"
      },
      "source": [
        "# Listas, dicionários, tuplas \n",
        "\n"
      ]
    },
    {
      "cell_type": "markdown",
      "metadata": {
        "id": "Vmao9LKvMlL1"
      },
      "source": [
        "## Vídeo\n",
        "### [Playlist: Curso Analista de Dados Python / Numpy / Pandas](https://www.youtube.com/playlist?list=PL3Fmwz_E1hXRWxIkP843DiDf0ZeqgftTy) \n",
        "*   Assista os vídeos #05, #06 e #07 \n",
        "\n",
        "## Livro\n",
        " ### **Python Para Análise de Dados** \n",
        "  *   Capítulo 3 \n",
        "     *   Item 3.1\n",
        "\n",
        "## Exercícios\n",
        "### Lista [Aulas de Introdução à Computação em Python ](https://panda.ime.usp.br/aulasPython/static/aulasPython/index.html/)\n",
        "*   [Faça os exercícios de **Lista**](https://panda.ime.usp.br/aulasPython/static/aulasPython/aula09.html#listas) \n",
        "*   [Faça os exercícos de **Dicionários**](https://panda.ime.usp.br/aulasPython/static/aulasPython/aula22.html)\n",
        "*   [Faça os exercícios de **Tuplas**] ()\n",
        "\n",
        "\n",
        "\n",
        "\n",
        "\n",
        "\n",
        "\n",
        "\n",
        "\n",
        "\n"
      ]
    },
    {
      "cell_type": "markdown",
      "metadata": {
        "id": "hxTfkSGAJa4M"
      },
      "source": [
        "# Estruturas condicionais e laços de repetição"
      ]
    },
    {
      "cell_type": "markdown",
      "metadata": {
        "id": "31BZhvoxPDaj"
      },
      "source": [
        "## Vídeo \n",
        "### [Playlist: Curso Analista de Dados Python / Numpy / Pandas](https://www.youtube.com/playlist?list=PL3Fmwz_E1hXRWxIkP843DiDf0ZeqgftTy) \n",
        "  * Assista os vídeos #08 e #09 \n",
        "\n",
        "## Livro \n",
        "### Python Para Análise de Dados\n",
        "  * Capítulo 2\n",
        "     * Item 2.3\n",
        "\n",
        "\n",
        "## Exercícios\n",
        "### Lista [Estrutura de Repetição](https://wiki.python.org.br/EstruturaDeRepeticao)\n",
        "  * Faça os exercícios de **Laços de repetição** \n",
        "\n"
      ]
    },
    {
      "cell_type": "markdown",
      "metadata": {
        "id": "3OJyp7sxJmgt"
      },
      "source": [
        "# Funções"
      ]
    },
    {
      "cell_type": "markdown",
      "metadata": {
        "id": "sDfUy5BbRXWs"
      },
      "source": [
        "## Vídeo \n",
        "### [Playlist: Curso Analista de Dados Python / Numpy / Pandas](https://www.youtube.com/playlist?list=PL3Fmwz_E1hXRWxIkP843DiDf0ZeqgftTy) \n",
        "* Assista o vídeo #11 \n",
        "\n",
        "## Livro \n",
        "### Python Para Análise de Dados\n",
        "  * Capítulo 3\n",
        "    * Item 3.2\n",
        "\n",
        "## Exercícios\n",
        "### Lista [ Exercícios Funções ](https://wiki.python.org.br/ExerciciosFuncoes)\n",
        "* Faça os exercícios de **Funções** "
      ]
    },
    {
      "cell_type": "markdown",
      "metadata": {
        "id": "nA5Bh6YkJ6du"
      },
      "source": [
        "# API\n",
        "## Vídeo\n",
        "* Vídeo [O que é API (Application Programming Interface) e Como Usar API com Python?](https://www.youtube.com/watch?v=eel1OVIdfUw)\n"
      ]
    },
    {
      "cell_type": "markdown",
      "metadata": {
        "id": "iwS4wuZuTPR5"
      },
      "source": [
        "# Materiais complementares\n"
      ]
    },
    {
      "cell_type": "markdown",
      "metadata": {
        "id": "O8fycbQNTdiz"
      },
      "source": [
        "* Curso [Introdução à Data Science com Python DATA/UPS](https://www.youtube.com/watch?v=pjT_0nPiSqQ&list=PLFE-LjWAAP9SfEuLXf3qrpw4szKWjlYq9) "
      ]
    }
  ]
}